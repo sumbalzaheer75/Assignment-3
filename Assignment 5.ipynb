{
 "cells": [
  {
   "cell_type": "markdown",
   "id": "538bc6cf-c00d-4c4b-ae82-abed1ffc4589",
   "metadata": {},
   "source": [
    "### Question 1"
   ]
  },
  {
   "cell_type": "code",
   "execution_count": 36,
   "id": "c2fe0c68-550a-44a8-8036-c1f27f5c3693",
   "metadata": {},
   "outputs": [
    {
     "name": "stdout",
     "output_type": "stream",
     "text": [
      "(3, 'Anam', 'Management')\n"
     ]
    },
    {
     "data": {
      "text/plain": [
       "[(1, 'Ali', 'Admin'), (3, 'Anam', 'Management'), (4, 'Salar', 'Graphics')]"
      ]
     },
     "execution_count": 36,
     "metadata": {},
     "output_type": "execute_result"
    }
   ],
   "source": [
    "employee1 = (1, \"Ali\", \"Admin\")\n",
    "employee2 = (2, \"Sana\", \"HR\")\n",
    "employee3 = (3, \"Anam\", \"Management\")\n",
    "employee_records = [employee1, employee2, employee3]\n",
    "add_employee(employee_records, 4, \"Salar\", \"Graphics\")\n",
    "employee_records = [emp for emp in employee_records if emp[0] != 2]\n",
    "employee_records\n",
    "employee = next((emp for emp in employee_records if emp[0] == 3))\n",
    "print(employee)\n",
    "employee_records"
   ]
  },
  {
   "cell_type": "markdown",
   "id": "4a22cc58-da40-410e-bde0-f7c16f5cb346",
   "metadata": {},
   "source": [
    "### Question 2"
   ]
  },
  {
   "cell_type": "code",
   "execution_count": 22,
   "id": "0e1c3a3a-edc9-4381-841e-036155fd04d5",
   "metadata": {},
   "outputs": [
    {
     "name": "stdout",
     "output_type": "stream",
     "text": [
      "Found item: (1, 'Laptop', 10)\n",
      "Current inventory: [(2, 'Mouse', 45), (3, 'Keyboard', 30), (4, 'Monitor', 20)]\n"
     ]
    }
   ],
   "source": [
    "item1 = (1, \"Laptop\", 10)\n",
    "item2 = (2, \"Mouse\", 50)\n",
    "item3 = (3, \"Keyboard\", 30)\n",
    "inventory = [item1, item2, item3]\n",
    "def add_item(inventory_list, item_id, description, quantity):\n",
    "    new_item = (item_id, description, quantity)\n",
    "    inventory_list.append(new_item)\n",
    "def update_quantity(inventory_list, item_id, new_quantity):\n",
    "    for i in range(len(inventory_list)):\n",
    "        if inventory_list[i][0] == item_id:\n",
    "            inventory_list[i] = (inventory_list[i][0], inventory_list[i][1], new_quantity)\n",
    "            break\n",
    "def find_item(inventory_list, item_id):\n",
    "    for item in inventory_list:\n",
    "        if item[0] == item_id:\n",
    "            return item\n",
    "    return None\n",
    "def remove_item(inventory_list, item_id):\n",
    "    inventory_list[:] = [item for item in inventory_list if item[0] != item_id]\n",
    "add_item(inventory, 4, \"Monitor\", 20)\n",
    "update_quantity(inventory, 2, 45)\n",
    "item = find_item(inventory, 1)\n",
    "print(\"Found item:\", item)\n",
    "remove_item(inventory, 1)\n",
    "print(\"Current inventory:\", inventory)"
   ]
  },
  {
   "cell_type": "markdown",
   "id": "cd9ad183-6122-4ebc-b605-ff5d5b35d39b",
   "metadata": {},
   "source": [
    "### Question 3"
   ]
  },
  {
   "cell_type": "code",
   "execution_count": 7,
   "id": "f4f55b5f-8ca9-4c4a-b18a-e3c9df7e41e1",
   "metadata": {},
   "outputs": [
    {
     "name": "stdout",
     "output_type": "stream",
     "text": [
      "Date: Aug 18, 2024 | Time: 02:00 pm\n",
      "Date: Aug 20, 2024 | Time: 09:00 am\n",
      "Date: Aug 23, 2024 | Time: 08:00 pm\n"
     ]
    }
   ],
   "source": [
    "event1 = (\"Aug 18, 2024\", \"02:00 pm\")\n",
    "event2 = (\"Aug 20, 2024\", \"09:00 am\")\n",
    "event3 = (\"Aug 23, 2024\", \"08:00 pm\")\n",
    "schedule_events = [event1, event2, event3]\n",
    "for event in schedule_events:\n",
    "    print(\"Date:\", event[0], \"| Time:\", event[1])"
   ]
  },
  {
   "cell_type": "markdown",
   "id": "d33fcee8-b6e6-4cc4-97d1-b327fd67381e",
   "metadata": {},
   "source": [
    "### Question 4"
   ]
  },
  {
   "cell_type": "code",
   "execution_count": 9,
   "id": "b50cf2d5-7d74-4918-9c8c-b77f29ea97db",
   "metadata": {
    "scrolled": true
   },
   "outputs": [
    {
     "name": "stdout",
     "output_type": "stream",
     "text": [
      "\n",
      "All Company Employees:\n",
      "\n",
      "Department: Engineering\n",
      "ID: 101, Name: Salar, Position: Software Engineer, Salary: 75000\n",
      "ID: 102, Name: Sana, Position: Chemical Engineer, Salary: 65000\n",
      "\n",
      "Department: Admin\n",
      "ID: 201, Name: Salman, Position: Senior Admin, Salary: 95000\n",
      "ID: 202, Name: Hina, Position: Assistant, Salary: 55000\n",
      "\n",
      "Department: HR\n",
      "ID: 301, Name: Momina, Position: Manager, Salary: 85000\n",
      "ID: 302, Name: Laila, Position: Internee, Salary: 35000\n"
     ]
    }
   ],
   "source": [
    "company_employees = {\n",
    "    \"Engineering\": {\n",
    "        101 : {\"name\": \"Salar\", \"position\": \"Software Engineer\", \"salary\": 75000},\n",
    "        102 : {\"name\": \"Sana\", \"position\": \"Chemical Engineer\", \"salary\": 65000}\n",
    "    },\n",
    "    \"Admin\" : {\n",
    "        201 : {\"name\": \"Salman\", \"position\": \"Senior Admin\", \"salary\": 95000},\n",
    "        202 : {\"name\": \"Hina\", \"position\": \"Assistant\", \"salary\": 55000}\n",
    "    },\n",
    "    \"HR\" : {\n",
    "        301 : {\"name\": \"Momina\", \"position\": \"Manager\", \"salary\": 85000},\n",
    "        302 : {\"name\": \"Laila\", \"position\": \"Internee\", \"salary\": 35000}\n",
    "    }\n",
    "}\n",
    "print(\"\\nAll Company Employees:\")\n",
    "for department, employees in company_employees.items():\n",
    "    print(f\"\\nDepartment: {department}\")\n",
    "    for employee_id, details in employees.items():\n",
    "        print(f\"ID: {employee_id}, Name: {details['name']}, Position: {details['position']}, Salary: {details['salary']}\")"
   ]
  },
  {
   "cell_type": "markdown",
   "id": "390ac8f9-693b-4606-9685-999db9bc5dae",
   "metadata": {},
   "source": [
    "### Question 5"
   ]
  },
  {
   "cell_type": "code",
   "execution_count": 13,
   "id": "d108844f-c63b-4ed7-902c-966e7d58c36b",
   "metadata": {
    "scrolled": true
   },
   "outputs": [
    {
     "name": "stdout",
     "output_type": "stream",
     "text": [
      "Burhan's Scores:\n",
      "Math: 85\n",
      "English: 78\n",
      "Science: 92\n"
     ]
    }
   ],
   "source": [
    "students = [\n",
    "    {\n",
    "        \"name\" : \"Burhan\",\n",
    "        \"Scores\" : {\n",
    "            \"Math\": 85,\n",
    "            \"English\": 78,\n",
    "            \"Science\": 92\n",
    "        }\n",
    "    },\n",
    "    {\n",
    "        \"name\" : \"Hina\",\n",
    "        \"Scores\" : {\n",
    "            \"Math\": 80,\n",
    "            \"English\": 73,\n",
    "            \"Science\": 80\n",
    "        }\n",
    "    },\n",
    "    {\n",
    "        \"name\" : \"Sara\",\n",
    "        \"Scores\" : {\n",
    "            \"Math\": 75,\n",
    "            \"English\": 81,\n",
    "            \"Science\": 76\n",
    "        }\n",
    "    }\n",
    "]\n",
    "def get_student_scores(student_list, student_name):\n",
    "    for student in student_list:\n",
    "        if student[\"name\"] == student_name:\n",
    "            return student[\"Scores\"]\n",
    "    return None\n",
    "student_name = \"Burhan\"\n",
    "Scores = get_student_scores(students, student_name)\n",
    "if Scores:\n",
    "    print(f\"{student_name}'s Scores:\")\n",
    "    for subject, score in Scores.items():\n",
    "        print(f\"{subject}: {score}\")\n",
    "else:\n",
    "    print(f\"No scores found for {student_name}.\")"
   ]
  },
  {
   "cell_type": "markdown",
   "id": "5ef42949-44a7-4149-aec2-893b4bdb9bd9",
   "metadata": {},
   "source": [
    "### Question 6"
   ]
  },
  {
   "cell_type": "code",
   "execution_count": 9,
   "id": "423dc356-73b7-4ced-8e4a-82ec101d42f1",
   "metadata": {},
   "outputs": [
    {
     "name": "stdout",
     "output_type": "stream",
     "text": [
      "Tasks for Project C:\n",
      "- Task 1\n",
      "- Task 2\n",
      "- Task 3\n",
      "- Task 4\n"
     ]
    }
   ],
   "source": [
    "projects = {\n",
    "    \"Project A\": [\"Task 1\", \"Task 2\", \"Task 3\"],\n",
    "    \"Project B\": [\"Task 1\", \"Task 2\"],\n",
    "    \"Project C\": [\"Task 1\", \"Task 2\", \"Task 3\", \"Task 4\"]\n",
    "}\n",
    "def get_project_tasks(project_dict, project_name):\n",
    "    return project_dict.get(project_name, \"No such project found.\")\n",
    "project_name = \"Project C\"\n",
    "tasks = get_project_tasks(projects, project_name)\n",
    "print(f\"Tasks for {project_name}:\")\n",
    "if isinstance(tasks, list):\n",
    "    for task in tasks:\n",
    "        print(f\"- {task}\")\n",
    "else:\n",
    "    print(tasks)\n"
   ]
  },
  {
   "cell_type": "markdown",
   "id": "ec8617a8-f348-4ba5-8d0d-5dc1816a441d",
   "metadata": {},
   "source": [
    "### Question 7"
   ]
  },
  {
   "cell_type": "code",
   "execution_count": 19,
   "id": "18dc4870-bb33-41cc-9f0e-c78518279fc6",
   "metadata": {},
   "outputs": [
    {
     "name": "stdout",
     "output_type": "stream",
     "text": [
      "Details for Module 1 in Course 1:\n",
      "Name: Introduction to Python\n",
      "Description: Learn the basics of Python programming.\n"
     ]
    }
   ],
   "source": [
    "training_program = {\n",
    "    \"Course 1\": {\n",
    "        \"Module 1\": {\n",
    "            \"name\": \"Introduction to Python\",\n",
    "            \"description\": \"Learn the basics of Python programming.\"\n",
    "        },\n",
    "        \"Module 2\": {\n",
    "            \"name\": \"Advanced Python\",\n",
    "            \"description\": \"Dive into advanced topics of Python.\"\n",
    "        }\n",
    "    },\n",
    "    \"Course 2\": {\n",
    "        \"Module 1\": {\n",
    "            \"name\": \"Introduction to Data Science\",\n",
    "            \"description\": \"Understand the fundamentals of data science.\"\n",
    "        },\n",
    "        \"Module 2\": {\n",
    "            \"name\": \"Data Visualization\",\n",
    "            \"description\": \"Learn to create visualizations with Python.\"\n",
    "        }\n",
    "    }\n",
    "}\n",
    "def get_module_details(training_program, course_name, module_name):\n",
    "    course = training_program.get(course_name)\n",
    "    if course:\n",
    "        module = course.get(module_name)\n",
    "        if module:\n",
    "            return module\n",
    "        else:\n",
    "            return f\"Module '{module_name}' not found in {course_name}.\"\n",
    "    else:\n",
    "        return f\"Course '{course_name}' not found.\"\n",
    "course_name = \"Course 1\"\n",
    "module_name = \"Module 1\"\n",
    "module_details = get_module_details(training_program, course_name, module_name)\n",
    "print(f\"Details for {module_name} in {course_name}:\")\n",
    "if isinstance(module_details, dict):\n",
    "    print(f\"Name: {module_details['name']}\")\n",
    "    print(f\"Description: {module_details['description']}\")\n",
    "else:\n",
    "    print(module_details)"
   ]
  },
  {
   "cell_type": "markdown",
   "id": "a6b09ed5-f1e6-47e1-83e1-cbc089a20dbb",
   "metadata": {},
   "source": [
    "### Question 8"
   ]
  },
  {
   "cell_type": "code",
   "execution_count": 25,
   "id": "6ca13b5c-7053-4b40-be79-1483cea693a0",
   "metadata": {},
   "outputs": [
    {
     "name": "stdout",
     "output_type": "stream",
     "text": [
      "Banana is below the price threshold with a price of 50\n",
      "Orange is below the price threshold with a price of 100\n"
     ]
    }
   ],
   "source": [
    "products = [(\"Apple\", 150), (\"Banana\", 50), (\"Orange\", 100), (\"Grapes\", 200)]\n",
    "price_threshold = 130\n",
    "for name, price in products:\n",
    "    if price < price_threshold:\n",
    "        print(f\"{name} is below the price threshold with a price of {price}\")\n"
   ]
  },
  {
   "cell_type": "code",
   "execution_count": null,
   "id": "2d25a776-b90c-4ca2-a2dd-2e0348928d7e",
   "metadata": {},
   "outputs": [],
   "source": []
  }
 ],
 "metadata": {
  "kernelspec": {
   "display_name": "Python 3 (ipykernel)",
   "language": "python",
   "name": "python3"
  },
  "language_info": {
   "codemirror_mode": {
    "name": "ipython",
    "version": 3
   },
   "file_extension": ".py",
   "mimetype": "text/x-python",
   "name": "python",
   "nbconvert_exporter": "python",
   "pygments_lexer": "ipython3",
   "version": "3.12.4"
  }
 },
 "nbformat": 4,
 "nbformat_minor": 5
}
