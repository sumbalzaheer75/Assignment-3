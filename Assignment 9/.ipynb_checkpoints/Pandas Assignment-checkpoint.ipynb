{
 "cells": [
  {
   "cell_type": "markdown",
   "id": "51b0216d-25ec-41c2-849d-79407d68c27f",
   "metadata": {},
   "source": [
    "# Loading Data from Various Sources"
   ]
  },
  {
   "cell_type": "code",
   "execution_count": 1,
   "id": "91791cb7-c40b-4565-9db1-f2c46e42c471",
   "metadata": {},
   "outputs": [],
   "source": [
    "import pandas as pd"
   ]
  },
  {
   "cell_type": "code",
   "execution_count": 3,
   "id": "f413e8c9-c059-49aa-9ede-21204d7c8e69",
   "metadata": {},
   "outputs": [],
   "source": [
    "df_csv = pd.read_csv('retail supermarket.csv')"
   ]
  },
  {
   "cell_type": "code",
   "execution_count": 5,
   "id": "7c15d89f-04dd-4cb8-a895-edfb85c0dd2f",
   "metadata": {},
   "outputs": [],
   "source": [
    "df_excel = pd.read_excel('retail supermarket.xlsx')"
   ]
  },
  {
   "cell_type": "code",
   "execution_count": 7,
   "id": "b4e19b63-1c6a-4289-a221-e45ed74e490f",
   "metadata": {},
   "outputs": [],
   "source": [
    "df_json = pd.read_json('sample4.json')"
   ]
  },
  {
   "cell_type": "markdown",
   "id": "2f8c8bb4-eef7-4c89-9b36-c14fae03ba0d",
   "metadata": {},
   "source": [
    "# Exploring the Structure of a DataFrame"
   ]
  },
  {
   "cell_type": "code",
   "execution_count": 11,
   "id": "9c519525-c90c-48fb-9416-270277a54944",
   "metadata": {},
   "outputs": [
    {
     "name": "stdout",
     "output_type": "stream",
     "text": [
      "        Ship Mode    Segment        Country             City       State  \\\n",
      "0    Second Class   Consumer  United States        Henderson    Kentucky   \n",
      "1    Second Class   Consumer  United States        Henderson    Kentucky   \n",
      "2    Second Class  Corporate  United States      Los Angeles  California   \n",
      "3  Standard Class   Consumer  United States  Fort Lauderdale     Florida   \n",
      "4  Standard Class   Consumer  United States  Fort Lauderdale     Florida   \n",
      "\n",
      "   Postal Code Region         Category Sub-Category     Sales  Quantity  \\\n",
      "0        42420  South        Furniture    Bookcases  261.9600         2   \n",
      "1        42420  South        Furniture       Chairs  731.9400         3   \n",
      "2        90036   West  Office Supplies       Labels   14.6200         2   \n",
      "3        33311  South        Furniture       Tables  957.5775         5   \n",
      "4        33311  South  Office Supplies      Storage   22.3680         2   \n",
      "\n",
      "   Discount    Profit  \n",
      "0      0.00   41.9136  \n",
      "1      0.00  219.5820  \n",
      "2      0.00    6.8714  \n",
      "3      0.45 -383.0310  \n",
      "4      0.20    2.5164  \n"
     ]
    }
   ],
   "source": [
    "print(df_csv.head())"
   ]
  },
  {
   "cell_type": "code",
   "execution_count": 15,
   "id": "dd59dba7-a302-4d62-94b8-3b4c81fcfe3e",
   "metadata": {},
   "outputs": [
    {
     "name": "stdout",
     "output_type": "stream",
     "text": [
      "(9994, 13)\n"
     ]
    }
   ],
   "source": [
    "print(df_csv.shape)"
   ]
  },
  {
   "cell_type": "code",
   "execution_count": 19,
   "id": "bc5b8b59-671e-4003-bfb1-40a7523fb7b4",
   "metadata": {},
   "outputs": [
    {
     "name": "stdout",
     "output_type": "stream",
     "text": [
      "Ship Mode        object\n",
      "Segment          object\n",
      "Country          object\n",
      "City             object\n",
      "State            object\n",
      "Postal Code       int64\n",
      "Region           object\n",
      "Category         object\n",
      "Sub-Category     object\n",
      "Sales           float64\n",
      "Quantity          int64\n",
      "Discount        float64\n",
      "Profit          float64\n",
      "dtype: object\n"
     ]
    }
   ],
   "source": [
    "print(df_csv.dtypes)"
   ]
  },
  {
   "cell_type": "code",
   "execution_count": 25,
   "id": "dec26318-31c5-461b-b018-03c7c8d36df4",
   "metadata": {},
   "outputs": [
    {
     "name": "stdout",
     "output_type": "stream",
     "text": [
      "Ship Mode       0\n",
      "Segment         0\n",
      "Country         0\n",
      "City            0\n",
      "State           0\n",
      "Postal Code     0\n",
      "Region          0\n",
      "Category        0\n",
      "Sub-Category    0\n",
      "Sales           0\n",
      "Quantity        0\n",
      "Discount        0\n",
      "Profit          0\n",
      "dtype: int64\n"
     ]
    }
   ],
   "source": [
    "print(df_csv.isnull().sum())"
   ]
  },
  {
   "cell_type": "code",
   "execution_count": 27,
   "id": "1c721ca7-c977-42d5-82a0-aeeef066cd43",
   "metadata": {},
   "outputs": [
    {
     "name": "stdout",
     "output_type": "stream",
     "text": [
      "        Ship Mode    Segment        Country             City       State  \\\n",
      "0    Second Class   Consumer  United States        Henderson    Kentucky   \n",
      "1    Second Class   Consumer  United States        Henderson    Kentucky   \n",
      "2    Second Class  Corporate  United States      Los Angeles  California   \n",
      "3  Standard Class   Consumer  United States  Fort Lauderdale     Florida   \n",
      "4  Standard Class   Consumer  United States  Fort Lauderdale     Florida   \n",
      "\n",
      "   Postal Code Region         Category Sub-Category     Sales  Quantity  \\\n",
      "0        42420  South        Furniture    Bookcases  261.9600         2   \n",
      "1        42420  South        Furniture       Chairs  731.9400         3   \n",
      "2        90036   West  Office Supplies       Labels   14.6200         2   \n",
      "3        33311  South        Furniture       Tables  957.5775         5   \n",
      "4        33311  South  Office Supplies      Storage   22.3680         2   \n",
      "\n",
      "   Discount    Profit  \n",
      "0      0.00   41.9136  \n",
      "1      0.00  219.5820  \n",
      "2      0.00    6.8714  \n",
      "3      0.45 -383.0310  \n",
      "4      0.20    2.5164  \n"
     ]
    }
   ],
   "source": [
    "print(df_excel.head())"
   ]
  },
  {
   "cell_type": "code",
   "execution_count": 29,
   "id": "62d139f7-3bc5-437d-8517-dd98b35faf04",
   "metadata": {},
   "outputs": [
    {
     "name": "stdout",
     "output_type": "stream",
     "text": [
      "(9994, 13)\n"
     ]
    }
   ],
   "source": [
    "print(df_excel.shape)"
   ]
  },
  {
   "cell_type": "code",
   "execution_count": 31,
   "id": "7b328b85-f90e-4e22-b2c5-5978f894198f",
   "metadata": {},
   "outputs": [
    {
     "name": "stdout",
     "output_type": "stream",
     "text": [
      "                                              people\n",
      "0  {'firstName': 'Joe', 'lastName': 'Jackson', 'g...\n",
      "1  {'firstName': 'James', 'lastName': 'Smith', 'g...\n",
      "2  {'firstName': 'Emily', 'lastName': 'Jones', 'g...\n"
     ]
    }
   ],
   "source": [
    "print(df_json.head())"
   ]
  },
  {
   "cell_type": "code",
   "execution_count": 33,
   "id": "7430d8c3-dca2-44aa-aee7-8a4988a67ce0",
   "metadata": {},
   "outputs": [
    {
     "name": "stdout",
     "output_type": "stream",
     "text": [
      "(3, 1)\n"
     ]
    }
   ],
   "source": [
    "print(df_json.shape)"
   ]
  },
  {
   "cell_type": "code",
   "execution_count": 35,
   "id": "1624e8f3-30e7-4bb1-826f-6a2569f5e832",
   "metadata": {},
   "outputs": [
    {
     "name": "stdout",
     "output_type": "stream",
     "text": [
      "people    object\n",
      "dtype: object\n"
     ]
    }
   ],
   "source": [
    "print(df_json.dtypes)"
   ]
  },
  {
   "cell_type": "code",
   "execution_count": 41,
   "id": "a9a8ef32-97c7-429b-82b9-65eb1f782bf2",
   "metadata": {},
   "outputs": [
    {
     "name": "stdout",
     "output_type": "stream",
     "text": [
      "people    0\n",
      "dtype: int64\n"
     ]
    }
   ],
   "source": [
    "print(df_json.isnull().sum())"
   ]
  },
  {
   "cell_type": "markdown",
   "id": "bdf9da98-4d6d-435e-9efe-1d2cc5cf5a26",
   "metadata": {},
   "source": [
    "# Summarizing the Data Using Descriptive Statistics"
   ]
  },
  {
   "cell_type": "code",
   "execution_count": 44,
   "id": "63d5dd05-b73f-445b-a5e3-1d4b9f1591f4",
   "metadata": {},
   "outputs": [
    {
     "name": "stdout",
     "output_type": "stream",
     "text": [
      "        Postal Code         Sales     Quantity     Discount       Profit\n",
      "count   9994.000000   9994.000000  9994.000000  9994.000000  9994.000000\n",
      "mean   55190.379428    229.858001     3.789574     0.156203    28.656896\n",
      "std    32063.693350    623.245101     2.225110     0.206452   234.260108\n",
      "min     1040.000000      0.444000     1.000000     0.000000 -6599.978000\n",
      "25%    23223.000000     17.280000     2.000000     0.000000     1.728750\n",
      "50%    56430.500000     54.490000     3.000000     0.200000     8.666500\n",
      "75%    90008.000000    209.940000     5.000000     0.200000    29.364000\n",
      "max    99301.000000  22638.480000    14.000000     0.800000  8399.976000\n"
     ]
    }
   ],
   "source": [
    "print(df_csv.describe())"
   ]
  },
  {
   "cell_type": "code",
   "execution_count": 46,
   "id": "540eaa60-6fc0-4f36-8e35-02b7896962d2",
   "metadata": {},
   "outputs": [
    {
     "name": "stdout",
     "output_type": "stream",
     "text": [
      "                                                   people\n",
      "count                                                   3\n",
      "unique                                                  3\n",
      "top     {'firstName': 'Joe', 'lastName': 'Jackson', 'g...\n",
      "freq                                                    1\n"
     ]
    }
   ],
   "source": [
    "print(df_json.describe())"
   ]
  },
  {
   "cell_type": "code",
   "execution_count": 48,
   "id": "c1cb42cb-cb58-4ed7-8b01-3d30f3921c3a",
   "metadata": {},
   "outputs": [
    {
     "name": "stdout",
     "output_type": "stream",
     "text": [
      "             Ship Mode   Segment        Country           City       State  \\\n",
      "count             9994      9994           9994           9994        9994   \n",
      "unique               4         3              1            531          49   \n",
      "top     Standard Class  Consumer  United States  New York City  California   \n",
      "freq              5968      5191           9994            915        2001   \n",
      "mean               NaN       NaN            NaN            NaN         NaN   \n",
      "std                NaN       NaN            NaN            NaN         NaN   \n",
      "min                NaN       NaN            NaN            NaN         NaN   \n",
      "25%                NaN       NaN            NaN            NaN         NaN   \n",
      "50%                NaN       NaN            NaN            NaN         NaN   \n",
      "75%                NaN       NaN            NaN            NaN         NaN   \n",
      "max                NaN       NaN            NaN            NaN         NaN   \n",
      "\n",
      "         Postal Code Region         Category Sub-Category         Sales  \\\n",
      "count    9994.000000   9994             9994         9994   9994.000000   \n",
      "unique           NaN      4                3           17           NaN   \n",
      "top              NaN   West  Office Supplies      Binders           NaN   \n",
      "freq             NaN   3203             6026         1523           NaN   \n",
      "mean    55190.379428    NaN              NaN          NaN    229.858001   \n",
      "std     32063.693350    NaN              NaN          NaN    623.245101   \n",
      "min      1040.000000    NaN              NaN          NaN      0.444000   \n",
      "25%     23223.000000    NaN              NaN          NaN     17.280000   \n",
      "50%     56430.500000    NaN              NaN          NaN     54.490000   \n",
      "75%     90008.000000    NaN              NaN          NaN    209.940000   \n",
      "max     99301.000000    NaN              NaN          NaN  22638.480000   \n",
      "\n",
      "           Quantity     Discount       Profit  \n",
      "count   9994.000000  9994.000000  9994.000000  \n",
      "unique          NaN          NaN          NaN  \n",
      "top             NaN          NaN          NaN  \n",
      "freq            NaN          NaN          NaN  \n",
      "mean       3.789574     0.156203    28.656896  \n",
      "std        2.225110     0.206452   234.260108  \n",
      "min        1.000000     0.000000 -6599.978000  \n",
      "25%        2.000000     0.000000     1.728750  \n",
      "50%        3.000000     0.200000     8.666500  \n",
      "75%        5.000000     0.200000    29.364000  \n",
      "max       14.000000     0.800000  8399.976000  \n"
     ]
    }
   ],
   "source": [
    "print(df_csv.describe(include='all'))"
   ]
  },
  {
   "cell_type": "code",
   "execution_count": 50,
   "id": "6d4da5a2-8a00-47e6-ba2f-4500f5ab3df1",
   "metadata": {},
   "outputs": [
    {
     "name": "stdout",
     "output_type": "stream",
     "text": [
      "                                                   people\n",
      "count                                                   3\n",
      "unique                                                  3\n",
      "top     {'firstName': 'Joe', 'lastName': 'Jackson', 'g...\n",
      "freq                                                    1\n"
     ]
    }
   ],
   "source": [
    "print(df_json.describe(include='all')) "
   ]
  },
  {
   "cell_type": "markdown",
   "id": "38a8a28d-da3c-43e2-a7e5-068deadc5f64",
   "metadata": {},
   "source": [
    "# Filtering and Selecting Specific Columns or Rows"
   ]
  },
  {
   "cell_type": "code",
   "execution_count": 55,
   "id": "0242083f-6e5c-43ec-b85d-c4fd4475d1c3",
   "metadata": {},
   "outputs": [
    {
     "name": "stdout",
     "output_type": "stream",
     "text": [
      "  Region    Profit\n",
      "0  South   41.9136\n",
      "1  South  219.5820\n",
      "2   West    6.8714\n",
      "3  South -383.0310\n",
      "4  South    2.5164\n"
     ]
    }
   ],
   "source": [
    "df_filtered_columns = df_csv[['Region', 'Profit']]\n",
    "print(df_filtered_columns.head())"
   ]
  },
  {
   "cell_type": "code",
   "execution_count": 59,
   "id": "4585aaec-a676-49af-be47-96f91260b496",
   "metadata": {},
   "outputs": [
    {
     "name": "stdout",
     "output_type": "stream",
     "text": [
      "         Ship Mode    Segment        Country           City       State  \\\n",
      "1     Second Class   Consumer  United States      Henderson    Kentucky   \n",
      "13  Standard Class   Consumer  United States        Seattle  Washington   \n",
      "24  Standard Class   Consumer  United States           Orem        Utah   \n",
      "35     First Class  Corporate  United States     Richardson       Texas   \n",
      "54  Standard Class  Corporate  United States  New York City    New York   \n",
      "\n",
      "    Postal Code   Region         Category Sub-Category     Sales  Quantity  \\\n",
      "1         42420    South        Furniture       Chairs   731.940         3   \n",
      "13        98103     West  Office Supplies      Binders   407.976         3   \n",
      "24        84057     West        Furniture       Tables  1044.630         3   \n",
      "35        75080  Central       Technology       Phones  1097.544         7   \n",
      "54        10024     East       Technology       Phones  1029.950         5   \n",
      "\n",
      "    Discount    Profit  \n",
      "1        0.0  219.5820  \n",
      "13       0.2  132.5922  \n",
      "24       0.0  240.2649  \n",
      "35       0.2  123.4737  \n",
      "54       0.0  298.6855  \n"
     ]
    }
   ],
   "source": [
    "df_filtered_columns = df_csv[df_csv['Profit']>100]\n",
    "print(df_filtered_columns.head())"
   ]
  },
  {
   "cell_type": "code",
   "execution_count": 61,
   "id": "2d253112-79aa-4bb1-8f12-1570797b0feb",
   "metadata": {},
   "outputs": [
    {
     "name": "stdout",
     "output_type": "stream",
     "text": [
      "        Ship Mode    Segment        Country             City       State  \\\n",
      "0    Second Class   Consumer  United States        Henderson    Kentucky   \n",
      "1    Second Class   Consumer  United States        Henderson    Kentucky   \n",
      "2    Second Class  Corporate  United States      Los Angeles  California   \n",
      "3  Standard Class   Consumer  United States  Fort Lauderdale     Florida   \n",
      "4  Standard Class   Consumer  United States  Fort Lauderdale     Florida   \n",
      "\n",
      "   Postal Code Region         Category Sub-Category     Sales  Quantity  \\\n",
      "0        42420  South        Furniture    Bookcases  261.9600         2   \n",
      "1        42420  South        Furniture       Chairs  731.9400         3   \n",
      "2        90036   West  Office Supplies       Labels   14.6200         2   \n",
      "3        33311  South        Furniture       Tables  957.5775         5   \n",
      "4        33311  South  Office Supplies      Storage   22.3680         2   \n",
      "\n",
      "   Discount    Profit  \n",
      "0      0.00   41.9136  \n",
      "1      0.00  219.5820  \n",
      "2      0.00    6.8714  \n",
      "3      0.45 -383.0310  \n",
      "4      0.20    2.5164  \n"
     ]
    }
   ],
   "source": [
    "df_filtered_by_index = df_csv.iloc[0:5]\n",
    "print(df_filtered_by_index)"
   ]
  },
  {
   "cell_type": "code",
   "execution_count": null,
   "id": "0ca6ee4d-f92c-45cf-9b21-7d28eb0bab10",
   "metadata": {},
   "outputs": [],
   "source": []
  }
 ],
 "metadata": {
  "kernelspec": {
   "display_name": "Python 3 (ipykernel)",
   "language": "python",
   "name": "python3"
  },
  "language_info": {
   "codemirror_mode": {
    "name": "ipython",
    "version": 3
   },
   "file_extension": ".py",
   "mimetype": "text/x-python",
   "name": "python",
   "nbconvert_exporter": "python",
   "pygments_lexer": "ipython3",
   "version": "3.12.4"
  }
 },
 "nbformat": 4,
 "nbformat_minor": 5
}
