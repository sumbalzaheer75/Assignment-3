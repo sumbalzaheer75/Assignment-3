{
 "cells": [
  {
   "cell_type": "code",
   "execution_count": 1,
   "id": "73af1f70-7805-428e-9dc8-2b11b8066760",
   "metadata": {},
   "outputs": [],
   "source": [
    "import numpy as np"
   ]
  },
  {
   "cell_type": "markdown",
   "id": "ba5da316-1a44-4de6-958b-e4f04146e4fd",
   "metadata": {},
   "source": [
    "# Arthematic Operations"
   ]
  },
  {
   "cell_type": "code",
   "execution_count": 17,
   "id": "90fdab3b-7069-421b-bb77-16f9d70b506c",
   "metadata": {},
   "outputs": [
    {
     "data": {
      "text/plain": [
       "array([ 2,  5,  7, 11, 17])"
      ]
     },
     "execution_count": 17,
     "metadata": {},
     "output_type": "execute_result"
    }
   ],
   "source": [
    "na1 = np.array([1, 2, 3, 6, 8])\n",
    "na2 = np.array([1, 3, 4, 5, 9])\n",
    "na_add = na1 + na2\n",
    "na_add"
   ]
  },
  {
   "cell_type": "code",
   "execution_count": 19,
   "id": "f5006b20-7a10-454d-8d7a-a11028084cec",
   "metadata": {},
   "outputs": [
    {
     "data": {
      "text/plain": [
       "array([ 0, -1, -1,  1, -1])"
      ]
     },
     "execution_count": 19,
     "metadata": {},
     "output_type": "execute_result"
    }
   ],
   "source": [
    "na_sub = na1 - na2\n",
    "na_sub"
   ]
  },
  {
   "cell_type": "code",
   "execution_count": 21,
   "id": "cd1ddaa3-e98b-4cdd-a81c-80c8a509f7a4",
   "metadata": {},
   "outputs": [
    {
     "data": {
      "text/plain": [
       "array([ 1,  6, 12, 30, 72])"
      ]
     },
     "execution_count": 21,
     "metadata": {},
     "output_type": "execute_result"
    }
   ],
   "source": [
    "na_mul = na1 * na2\n",
    "na_mul"
   ]
  },
  {
   "cell_type": "code",
   "execution_count": 23,
   "id": "b9733263-da09-425a-a551-39165a515dc9",
   "metadata": {},
   "outputs": [
    {
     "data": {
      "text/plain": [
       "array([1.        , 0.66666667, 0.75      , 1.2       , 0.88888889])"
      ]
     },
     "execution_count": 23,
     "metadata": {},
     "output_type": "execute_result"
    }
   ],
   "source": [
    "na_div = na1 / na2\n",
    "na_div"
   ]
  },
  {
   "cell_type": "code",
   "execution_count": 27,
   "id": "ceb70c45-0d7b-4322-8959-f1bf38304364",
   "metadata": {},
   "outputs": [
    {
     "data": {
      "text/plain": [
       "array([ 4,  5,  6,  9, 11])"
      ]
     },
     "execution_count": 27,
     "metadata": {},
     "output_type": "execute_result"
    }
   ],
   "source": [
    "arr = na1 + 3\n",
    "arr"
   ]
  },
  {
   "cell_type": "code",
   "execution_count": 29,
   "id": "dd9240dd-72f2-45b5-a3c3-62534e71cfcb",
   "metadata": {},
   "outputs": [],
   "source": [
    "arr = na1 - 2"
   ]
  },
  {
   "cell_type": "code",
   "execution_count": 31,
   "id": "85fc4950-2053-43c7-83cc-862184ce45a2",
   "metadata": {},
   "outputs": [
    {
     "data": {
      "text/plain": [
       "array([-1,  0,  1,  4,  6])"
      ]
     },
     "execution_count": 31,
     "metadata": {},
     "output_type": "execute_result"
    }
   ],
   "source": [
    "arr"
   ]
  },
  {
   "cell_type": "markdown",
   "id": "9ff098c7-ca9d-4d86-852f-4f7568f0145b",
   "metadata": {},
   "source": [
    "# Indexing and Slicing"
   ]
  },
  {
   "cell_type": "code",
   "execution_count": 41,
   "id": "990df4bf-2c37-40b3-beee-25e3479175fd",
   "metadata": {},
   "outputs": [],
   "source": [
    "array1 = np.arange(0,25, 2)"
   ]
  },
  {
   "cell_type": "code",
   "execution_count": 43,
   "id": "08c5b8f0-999e-4f85-96e0-fe8dc4fec73f",
   "metadata": {},
   "outputs": [
    {
     "data": {
      "text/plain": [
       "array([ 0,  2,  4,  6,  8, 10, 12, 14, 16, 18, 20, 22, 24])"
      ]
     },
     "execution_count": 43,
     "metadata": {},
     "output_type": "execute_result"
    }
   ],
   "source": [
    "array1"
   ]
  },
  {
   "cell_type": "code",
   "execution_count": 45,
   "id": "0465e2ea-5502-4237-a49c-2f0dc656e5fb",
   "metadata": {},
   "outputs": [
    {
     "data": {
      "text/plain": [
       "10"
      ]
     },
     "execution_count": 45,
     "metadata": {},
     "output_type": "execute_result"
    }
   ],
   "source": [
    "array1[5]"
   ]
  },
  {
   "cell_type": "code",
   "execution_count": 49,
   "id": "f9c2d797-144a-4f75-8fa0-595cac13aa06",
   "metadata": {},
   "outputs": [
    {
     "data": {
      "text/plain": [
       "array([ 4,  6,  8, 10])"
      ]
     },
     "execution_count": 49,
     "metadata": {},
     "output_type": "execute_result"
    }
   ],
   "source": [
    "subset = array1[2:6]\n",
    "subset"
   ]
  },
  {
   "cell_type": "markdown",
   "id": "aa9e05a8-5766-4ab8-ba6c-2af0e2205117",
   "metadata": {},
   "source": [
    "# Reshaping and Transposing"
   ]
  },
  {
   "cell_type": "code",
   "execution_count": 58,
   "id": "beddf75a-1d78-415b-97b2-f2e16064ffb2",
   "metadata": {},
   "outputs": [
    {
     "data": {
      "text/plain": [
       "array([[2, 4, 7],\n",
       "       [8, 4, 9],\n",
       "       [8, 9, 0]])"
      ]
     },
     "execution_count": 58,
     "metadata": {},
     "output_type": "execute_result"
    }
   ],
   "source": [
    "reshaped_array = np.array([2,4,7,8,4,9,8,9,0]).reshape(3,3)\n",
    "reshaped_array"
   ]
  },
  {
   "cell_type": "code",
   "execution_count": 60,
   "id": "7d01f7e4-ca51-42d6-8441-fa62ec709cfb",
   "metadata": {},
   "outputs": [
    {
     "data": {
      "text/plain": [
       "array([[2, 4],\n",
       "       [7, 8],\n",
       "       [4, 9]])"
      ]
     },
     "execution_count": 60,
     "metadata": {},
     "output_type": "execute_result"
    }
   ],
   "source": [
    "reshaped_array = np.array([2,4,7,8,4,9]).reshape(3,2)\n",
    "reshaped_array"
   ]
  },
  {
   "cell_type": "code",
   "execution_count": 62,
   "id": "e860e713-701b-4b94-90f9-30e5f9f73f81",
   "metadata": {},
   "outputs": [
    {
     "data": {
      "text/plain": [
       "array([[0, 1, 2],\n",
       "       [3, 4, 5],\n",
       "       [6, 7, 8]])"
      ]
     },
     "execution_count": 62,
     "metadata": {},
     "output_type": "execute_result"
    }
   ],
   "source": [
    "reshaped_array = np.arange(9).reshape(3,3)\n",
    "reshaped_array"
   ]
  },
  {
   "cell_type": "code",
   "execution_count": 64,
   "id": "1a0b3dbe-f539-4c64-a95d-4308cdc78555",
   "metadata": {},
   "outputs": [
    {
     "data": {
      "text/plain": [
       "array([[ 0,  1,  2,  3],\n",
       "       [ 4,  5,  6,  7],\n",
       "       [ 8,  9, 10, 11],\n",
       "       [12, 13, 14, 15]])"
      ]
     },
     "execution_count": 64,
     "metadata": {},
     "output_type": "execute_result"
    }
   ],
   "source": [
    "reshaped_array = np.arange(16).reshape(4,4)\n",
    "reshaped_array"
   ]
  },
  {
   "cell_type": "code",
   "execution_count": 67,
   "id": "a2aa97be-5ac4-4e12-9c9a-c68c5901d424",
   "metadata": {},
   "outputs": [
    {
     "data": {
      "text/plain": [
       "array([[ 0,  4,  8, 12],\n",
       "       [ 1,  5,  9, 13],\n",
       "       [ 2,  6, 10, 14],\n",
       "       [ 3,  7, 11, 15]])"
      ]
     },
     "execution_count": 67,
     "metadata": {},
     "output_type": "execute_result"
    }
   ],
   "source": [
    "transposed_array = reshaped_array.T\n",
    "transposed_array"
   ]
  },
  {
   "cell_type": "markdown",
   "id": "a9dfb170-8062-4587-bb7a-19b9104efd70",
   "metadata": {},
   "source": [
    "# Calculating statistics"
   ]
  },
  {
   "cell_type": "code",
   "execution_count": 86,
   "id": "a16246ad-256d-47e2-a679-efd63d0ff1b5",
   "metadata": {},
   "outputs": [
    {
     "data": {
      "text/plain": [
       "2.0"
      ]
     },
     "execution_count": 86,
     "metadata": {},
     "output_type": "execute_result"
    }
   ],
   "source": [
    "arr = np.arange(5)\n",
    "mean_arr = np.mean(arr)\n",
    "mean_arr"
   ]
  },
  {
   "cell_type": "code",
   "execution_count": 88,
   "id": "1866fcaa-7ddf-4ca7-b148-ac1e0639d279",
   "metadata": {},
   "outputs": [
    {
     "data": {
      "text/plain": [
       "2.0"
      ]
     },
     "execution_count": 88,
     "metadata": {},
     "output_type": "execute_result"
    }
   ],
   "source": [
    "median_arr = np.median(arr)\n",
    "median_arr"
   ]
  },
  {
   "cell_type": "code",
   "execution_count": 90,
   "id": "f9f848e7-cb98-471a-a3f1-a55b16e2a2d9",
   "metadata": {},
   "outputs": [
    {
     "data": {
      "text/plain": [
       "1.4142135623730951"
      ]
     },
     "execution_count": 90,
     "metadata": {},
     "output_type": "execute_result"
    }
   ],
   "source": [
    "std_div = np.std(arr)\n",
    "std_div"
   ]
  },
  {
   "cell_type": "code",
   "execution_count": 92,
   "id": "9e52cedb-6cf8-4302-a568-04c163666e62",
   "metadata": {},
   "outputs": [
    {
     "data": {
      "text/plain": [
       "2.0"
      ]
     },
     "execution_count": 92,
     "metadata": {},
     "output_type": "execute_result"
    }
   ],
   "source": [
    "variance = np.var(arr)\n",
    "variance"
   ]
  },
  {
   "cell_type": "code",
   "execution_count": 84,
   "id": "9520e1ee-5a33-4eb0-8914-710006c5ac8f",
   "metadata": {},
   "outputs": [
    {
     "data": {
      "text/plain": [
       "array(5)"
      ]
     },
     "execution_count": 84,
     "metadata": {},
     "output_type": "execute_result"
    }
   ],
   "source": [
    "arr"
   ]
  },
  {
   "cell_type": "markdown",
   "id": "7fedfc67-9d9a-40bb-b74a-61dc2bf93b52",
   "metadata": {},
   "source": [
    "# Data Type"
   ]
  },
  {
   "cell_type": "code",
   "execution_count": 99,
   "id": "93693591-5387-4be9-85da-967463f53c74",
   "metadata": {},
   "outputs": [
    {
     "data": {
      "text/plain": [
       "array([1, 2, 3])"
      ]
     },
     "execution_count": 99,
     "metadata": {},
     "output_type": "execute_result"
    }
   ],
   "source": [
    "arr_int = np.array([1.5, 2.4, 3.4], dtype=int)\n",
    "arr_int"
   ]
  },
  {
   "cell_type": "code",
   "execution_count": 107,
   "id": "c3980b49-13aa-4e92-9f51-49358dab5438",
   "metadata": {},
   "outputs": [
    {
     "data": {
      "text/plain": [
       "array([1., 2., 3.])"
      ]
     },
     "execution_count": 107,
     "metadata": {},
     "output_type": "execute_result"
    }
   ],
   "source": [
    "arr_int = np.array([1, 2, 3], dtype = float)\n",
    "arr_int"
   ]
  },
  {
   "cell_type": "code",
   "execution_count": 109,
   "id": "89741dd1-2fe3-4cb4-8964-408f132911b7",
   "metadata": {},
   "outputs": [
    {
     "data": {
      "text/plain": [
       "array([False, False,  True,  True, False,  True])"
      ]
     },
     "execution_count": 109,
     "metadata": {},
     "output_type": "execute_result"
    }
   ],
   "source": [
    "arr_bool = np.array([0,0,1,1,0,1], dtype = bool)\n",
    "arr_bool"
   ]
  },
  {
   "cell_type": "code",
   "execution_count": 111,
   "id": "dd6e986f-e12e-4128-8e21-f342766e1b1e",
   "metadata": {},
   "outputs": [
    {
     "data": {
      "text/plain": [
       "array(['1', '4', 'apple', 'banana', '3'], dtype='<U6')"
      ]
     },
     "execution_count": 111,
     "metadata": {},
     "output_type": "execute_result"
    }
   ],
   "source": [
    "array1 = np.array([1, 4, \"apple\", \"banana\", 3], dtype = str)\n",
    "array1"
   ]
  },
  {
   "cell_type": "markdown",
   "id": "225ac18d-e54b-4536-93af-e3d548e8a846",
   "metadata": {},
   "source": [
    "# Concatenating and Sorting Arrays"
   ]
  },
  {
   "cell_type": "code",
   "execution_count": 121,
   "id": "a9c0d661-1095-4f87-8949-383d594ed890",
   "metadata": {},
   "outputs": [
    {
     "data": {
      "text/plain": [
       "array([1, 4, 6, 2, 3, 5])"
      ]
     },
     "execution_count": 121,
     "metadata": {},
     "output_type": "execute_result"
    }
   ],
   "source": [
    "array1 = np.array([1,4,6])\n",
    "array2 = np.array([2,3,5])\n",
    "concat_array = np.concatenate((array1, array2))\n",
    "concat_array"
   ]
  },
  {
   "cell_type": "code",
   "execution_count": 125,
   "id": "e1024087-ddf6-419c-9908-b09eb63305f2",
   "metadata": {},
   "outputs": [
    {
     "data": {
      "text/plain": [
       "array([1, 2, 3, 4, 5, 6])"
      ]
     },
     "execution_count": 125,
     "metadata": {},
     "output_type": "execute_result"
    }
   ],
   "source": [
    "sort_array = np.sort(concat_array[::1])\n",
    "sort_array"
   ]
  },
  {
   "cell_type": "code",
   "execution_count": 131,
   "id": "ea59b35b-4a73-4c4e-b140-36a41eb80909",
   "metadata": {},
   "outputs": [
    {
     "data": {
      "text/plain": [
       "array([6, 5, 4, 3, 2, 1])"
      ]
     },
     "execution_count": 131,
     "metadata": {},
     "output_type": "execute_result"
    }
   ],
   "source": [
    "sort1_array = np.sort(concat_array)[::-1]\n",
    "sort1_array"
   ]
  },
  {
   "cell_type": "code",
   "execution_count": null,
   "id": "767c186b-0467-44d7-91eb-efeeae2dad5a",
   "metadata": {},
   "outputs": [],
   "source": []
  }
 ],
 "metadata": {
  "kernelspec": {
   "display_name": "Python 3 (ipykernel)",
   "language": "python",
   "name": "python3"
  },
  "language_info": {
   "codemirror_mode": {
    "name": "ipython",
    "version": 3
   },
   "file_extension": ".py",
   "mimetype": "text/x-python",
   "name": "python",
   "nbconvert_exporter": "python",
   "pygments_lexer": "ipython3",
   "version": "3.12.4"
  }
 },
 "nbformat": 4,
 "nbformat_minor": 5
}
