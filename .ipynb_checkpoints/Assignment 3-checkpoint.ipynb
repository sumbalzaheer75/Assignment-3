{
 "cells": [
  {
   "cell_type": "code",
   "execution_count": 5,
   "id": "098012a6-ca3f-4ad6-8822-0bcf8ad711c0",
   "metadata": {},
   "outputs": [
    {
     "name": "stdout",
     "output_type": "stream",
     "text": [
      "Twinkle, twinkle, little star, \n",
      "\tHow I wonder what you are! \n",
      "\t\tUp above the world so high, \n",
      "\t\tLike a diamond in the sky. \n",
      "Twinkle, twinkle, little star, \n",
      "\tHow I wonder what you are\n"
     ]
    }
   ],
   "source": [
    "print(\"Twinkle, twinkle, little star, \\n\\tHow I wonder what you are! \\n\\t\\tUp above the world so high, \\n\\t\\tLike a diamond in the sky. \\nTwinkle, twinkle, little star, \\n\\tHow I wonder what you are\")"
   ]
  },
  {
   "cell_type": "code",
   "execution_count": 11,
   "id": "d104fa55-10de-404d-aafb-3a4f8d3b1bc0",
   "metadata": {},
   "outputs": [
    {
     "name": "stdout",
     "output_type": "stream",
     "text": [
      "Python Version\n",
      "3.12.4 | packaged by Anaconda, Inc. | (main, Jun 18 2024, 15:03:56) [MSC v.1929 64 bit (AMD64)]\n"
     ]
    }
   ],
   "source": [
    "import sys\n",
    "print(\"Python Version\")\n",
    "print(sys.version)"
   ]
  },
  {
   "cell_type": "code",
   "execution_count": 15,
   "id": "6564d1e8-78bc-4256-8ba2-269112314f75",
   "metadata": {},
   "outputs": [
    {
     "name": "stdout",
     "output_type": "stream",
     "text": [
      "Current Dtae and Time : \n",
      "2024-08-02 11:17:43.233495\n"
     ]
    }
   ],
   "source": [
    "import datetime\n",
    "now = datetime.datetime.now()\n",
    "print(\"Current Dtae and Time : \")\n",
    "print(now)"
   ]
  },
  {
   "cell_type": "code",
   "execution_count": 21,
   "id": "1831db15-29ea-49e5-ae65-f446a82548ba",
   "metadata": {},
   "outputs": [
    {
     "name": "stdin",
     "output_type": "stream",
     "text": [
      "Enter the radius of the circle:  5\n"
     ]
    },
    {
     "name": "stdout",
     "output_type": "stream",
     "text": [
      "The area of the circle with radius 5.0 is: 78.53981633974483\n"
     ]
    }
   ],
   "source": [
    "import math\n",
    "radius = float(input(\"Enter the radius of the circle: \"))\n",
    "area = math.pi * (radius ** 2)\n",
    "print(f\"The area of the circle with radius {radius} is: {area}\")"
   ]
  },
  {
   "cell_type": "code",
   "execution_count": 29,
   "id": "a35eff87-5d14-453f-98e1-0059bf7a4717",
   "metadata": {},
   "outputs": [
    {
     "name": "stdin",
     "output_type": "stream",
     "text": [
      "Enter your First name :  Sumbal\n",
      "Enter your Last name :  Zaheer\n"
     ]
    },
    {
     "name": "stdout",
     "output_type": "stream",
     "text": [
      "Zaheer   Sumbal\n"
     ]
    }
   ],
   "source": [
    "first_name = input(\"Enter your First name : \")\n",
    "last_name = input(\"Enter your Last name : \")\n",
    "print(last_name, \" \", first_name)"
   ]
  },
  {
   "cell_type": "code",
   "execution_count": 37,
   "id": "39a3d98c-a8d4-401e-8e25-5f8ccc097e7c",
   "metadata": {},
   "outputs": [
    {
     "name": "stdin",
     "output_type": "stream",
     "text": [
      "Enter first number :  3\n",
      "Enter second number :  5\n"
     ]
    },
    {
     "name": "stdout",
     "output_type": "stream",
     "text": [
      "8\n"
     ]
    }
   ],
   "source": [
    "num1 = int(input(\"Enter first number : \"))\n",
    "num2 = int(input(\"Enter second number : \"))\n",
    "sum = num1 + num2\n",
    "print(sum)"
   ]
  },
  {
   "cell_type": "code",
   "execution_count": 55,
   "id": "7e235a0f-399c-42b1-8bb1-ceaebb80d96e",
   "metadata": {},
   "outputs": [
    {
     "name": "stdin",
     "output_type": "stream",
     "text": [
      "Enter English marks:  67\n",
      "Enter Maths marks:  65\n",
      "Enter Physics marks:  78\n",
      "Enter Chemistry marks:  98\n",
      "Enter Urdu marks:  76\n"
     ]
    },
    {
     "name": "stdout",
     "output_type": "stream",
     "text": [
      "384\n",
      "76.8\n",
      "B Grade\n"
     ]
    }
   ],
   "source": [
    "eng = int(input(\"Enter English marks: \"))\n",
    "maths = int(input(\"Enter Maths marks: \"))\n",
    "phy = int(input(\"Enter Physics marks: \"))\n",
    "chem = int(input(\"Enter Chemistry marks: \"))\n",
    "urdu= int(input(\"Enter Urdu marks: \"))\n",
    "total = eng + maths + phy + chem + urdu \n",
    "print(total)\n",
    "percentage = (total/500)*100\n",
    "print(percentage)\n",
    "if (percentage >= 90):\n",
    "    print (\"A+ Grade\")\n",
    "elif (percentage >= 80 and percentage<90):\n",
    "    print(\"A Grade\")\n",
    "elif (percentage >=70 and percentage<80):\n",
    "    print(\"B Grade\")\n",
    "elif (percentage >= 60 and percentage< 70):\n",
    "    print(\"C Grade\")\n",
    "else:\n",
    "    print(\"D Grade\")"
   ]
  },
  {
   "cell_type": "code",
   "execution_count": 61,
   "id": "5dbf7577-d232-47ab-8752-a8a19a28372a",
   "metadata": {},
   "outputs": [
    {
     "name": "stdin",
     "output_type": "stream",
     "text": [
      "Enter a Number :  5\n"
     ]
    },
    {
     "name": "stdout",
     "output_type": "stream",
     "text": [
      "Number is Odd\n"
     ]
    }
   ],
   "source": [
    "num = int(input(\"Enter a Number : \"))\n",
    "if (num % 2 ==0):\n",
    "    print(\"Number is Even\")\n",
    "else:\n",
    "    print(\"Number is Odd\")"
   ]
  },
  {
   "cell_type": "code",
   "execution_count": 69,
   "id": "d53c5566-f2d3-47fc-af95-d5ed2e2b285b",
   "metadata": {},
   "outputs": [
    {
     "name": "stdout",
     "output_type": "stream",
     "text": [
      "Length of list is : 5\n"
     ]
    }
   ],
   "source": [
    "list = [4, 6, 8, 3, 0]\n",
    "length_of_list = len(list)\n",
    "print(f\"Length of list is : {length_of_list}\")"
   ]
  },
  {
   "cell_type": "code",
   "execution_count": 5,
   "id": "7b4640b7-95f1-4f40-8c51-be1f5ec09662",
   "metadata": {},
   "outputs": [
    {
     "name": "stdout",
     "output_type": "stream",
     "text": [
      "Sum of all item in a list is : 23.099999999999998\n"
     ]
    }
   ],
   "source": [
    "my_list = [3, 5, 7.8, 4.6, \"hello world\", 1, \"addition\", 1.7]\n",
    "total_sum = 0\n",
    "for item in my_list:\n",
    "    if isinstance(item, (int, float)):\n",
    "        total_sum += item\n",
    "print(f\"Sum of all item in a list is : {total_sum}\")"
   ]
  },
  {
   "cell_type": "code",
   "execution_count": 12,
   "id": "720e7db7-e34d-4afc-9a4a-74622b3c7f8f",
   "metadata": {},
   "outputs": [
    {
     "name": "stdout",
     "output_type": "stream",
     "text": [
      "largest number in a list is : 45\n"
     ]
    }
   ],
   "source": [
    "list = [4, 7, 10, 45, 3]\n",
    "largest_number = max(list)\n",
    "print(\"largest number in a list is :\", largest_number)"
   ]
  },
  {
   "cell_type": "code",
   "execution_count": 14,
   "id": "51b611f2-82b8-4b3a-8ae6-fa8957adada0",
   "metadata": {},
   "outputs": [
    {
     "name": "stdout",
     "output_type": "stream",
     "text": [
      "1\n",
      "1\n",
      "2\n",
      "3\n"
     ]
    }
   ],
   "source": [
    "a = [1, 1, 2, 3, 5, 8, 13, 21, 34, 55, 89]\n",
    "for number in a:\n",
    "    if number <5:\n",
    "        print(number)"
   ]
  }
 ],
 "metadata": {
  "kernelspec": {
   "display_name": "Python 3 (ipykernel)",
   "language": "python",
   "name": "python3"
  },
  "language_info": {
   "codemirror_mode": {
    "name": "ipython",
    "version": 3
   },
   "file_extension": ".py",
   "mimetype": "text/x-python",
   "name": "python",
   "nbconvert_exporter": "python",
   "pygments_lexer": "ipython3",
   "version": "3.12.4"
  }
 },
 "nbformat": 4,
 "nbformat_minor": 5
}
