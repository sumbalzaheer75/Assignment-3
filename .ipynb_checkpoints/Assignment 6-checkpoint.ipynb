{
 "cells": [
  {
   "cell_type": "markdown",
   "id": "cdb7c02a-d2cf-40b7-846e-c85d9f2feb2d",
   "metadata": {},
   "source": [
    "### Question 1"
   ]
  },
  {
   "cell_type": "code",
   "execution_count": 6,
   "id": "b050fc2c-2055-4e67-8c04-802aea82e047",
   "metadata": {},
   "outputs": [
    {
     "name": "stdout",
     "output_type": "stream",
     "text": [
      "* \n",
      "* * \n",
      "* * * \n",
      "* * * * \n",
      "* * * * * \n",
      "* * * * \n",
      "* * * \n",
      "* * \n",
      "* \n"
     ]
    }
   ],
   "source": [
    "n = 5\n",
    "for i in range(1, n+1):\n",
    "    for j in range(1, i+1):\n",
    "        print(\"*\", end=\" \")\n",
    "    print()\n",
    "for i in range(n-1, 0, -1):\n",
    "    for j in range(1, i+1):\n",
    "        print(\"*\", end=\" \")\n",
    "    print()"
   ]
  },
  {
   "cell_type": "markdown",
   "id": "b8398ea9-4be4-40cf-82f3-e38f654a6452",
   "metadata": {},
   "source": [
    "### Question 2"
   ]
  },
  {
   "cell_type": "code",
   "execution_count": 15,
   "id": "ad2d030c-712e-46ab-8d37-90c3165debdd",
   "metadata": {},
   "outputs": [
    {
     "name": "stdin",
     "output_type": "stream",
     "text": [
      "Enter a Vowel r\n"
     ]
    },
    {
     "name": "stdout",
     "output_type": "stream",
     "text": [
      "r is a consonant\n"
     ]
    }
   ],
   "source": [
    "alphabet = input(\"Enter a Vowel\")\n",
    "vowels = \"aeiouAEIOU\"\n",
    "if alphabet in vowels:\n",
    "    print(f\"{alphabet} is a vowel\")\n",
    "else:\n",
    "    print(f\"{alphabet} is a Consonant\")"
   ]
  },
  {
   "cell_type": "markdown",
   "id": "f911b689-2f15-4e5a-839b-ef3420a78e61",
   "metadata": {},
   "source": [
    "### Question 3"
   ]
  },
  {
   "cell_type": "code",
   "execution_count": 20,
   "id": "94127561-b33d-4db7-b154-9bff3ee0e0d3",
   "metadata": {},
   "outputs": [
    {
     "name": "stdin",
     "output_type": "stream",
     "text": [
      "Enter a Number 3\n"
     ]
    },
    {
     "name": "stdout",
     "output_type": "stream",
     "text": [
      "3 x 1 = 3\n",
      "3 x 1 = 6\n",
      "3 x 1 = 9\n",
      "3 x 1 = 12\n",
      "3 x 1 = 15\n",
      "3 x 1 = 18\n",
      "3 x 1 = 21\n",
      "3 x 1 = 24\n",
      "3 x 1 = 27\n",
      "3 x 1 = 30\n"
     ]
    }
   ],
   "source": [
    "num = int(input(\"Enter a Number\"))\n",
    "for i in range(1, 11):\n",
    "    print(f\"{num} x 1 = {num * i}\")"
   ]
  },
  {
   "cell_type": "markdown",
   "id": "338f44d5-7d7e-45c2-8bb2-b8b9c0f0e643",
   "metadata": {},
   "source": [
    "### Qestion 4"
   ]
  },
  {
   "cell_type": "code",
   "execution_count": 77,
   "id": "3667dddc-1db8-4383-9bd4-e0d81e337d7a",
   "metadata": {},
   "outputs": [
    {
     "name": "stdin",
     "output_type": "stream",
     "text": [
      "Guess a number between 1 and 9 4\n",
      "Guess a number between 1 and 9 2\n",
      "Guess a number between 1 and 9 3\n",
      "Guess a number between 1 and 9 6\n",
      "Guess a number between 1 and 9 7\n",
      "Guess a number between 1 and 9 8\n",
      "Guess a number between 1 and 9 1\n"
     ]
    },
    {
     "name": "stdout",
     "output_type": "stream",
     "text": [
      "Well Guessed\n"
     ]
    }
   ],
   "source": [
    "import random\n",
    "number_to_guess = random.randint(1, 9)\n",
    "guessed_number = None\n",
    "while guessed_number != number_to_guess:\n",
    "    guessed_number = int(input(\"Guess a number between 1 and 9\"))\n",
    "    if guessed_number == number_to_guess:\n",
    "        print(\"Well Guessed\")\n",
    "        break"
   ]
  },
  {
   "cell_type": "markdown",
   "id": "55c9acdb-b11b-46f0-8700-edc7ece20670",
   "metadata": {},
   "source": [
    "### Question 5"
   ]
  },
  {
   "cell_type": "code",
   "execution_count": 29,
   "id": "17f502aa-c525-4792-b15f-a9be1f3e61de",
   "metadata": {},
   "outputs": [
    {
     "name": "stdout",
     "output_type": "stream",
     "text": [
      "{'Cierra Vega': (6.2, 70)}\n"
     ]
    }
   ],
   "source": [
    "students = {\n",
    "    'Cierra Vega': (6.2, 70),\n",
    "    'Alden Cantrell': (5.9, 65),\n",
    "    'Kierra Gentry': (6.0, 68),\n",
    "    'Pierre Cox': (5.8, 66)\n",
    "}\n",
    "filtered_students = {name: (height, weight) for name, (height, weight) in students.items() if height > 6 and weight >= 70}\n",
    "#filtered_students = [(name, (height, weight)) for name, (height, weight) in students.items() if height > 6 and weight >= 70]\n",
    "print(filtered_students)"
   ]
  },
  {
   "cell_type": "markdown",
   "id": "f9f11b4e-719a-4b92-b0f1-6cefe0affddb",
   "metadata": {},
   "source": [
    "### Question 6"
   ]
  },
  {
   "cell_type": "code",
   "execution_count": 32,
   "id": "685a397c-0354-4cbf-820e-05acbf28d9c0",
   "metadata": {},
   "outputs": [
    {
     "name": "stdout",
     "output_type": "stream",
     "text": [
      "{'C1': [], 'C2': [], 'C3': []}\n"
     ]
    }
   ],
   "source": [
    "given_dictionary = {\n",
    "    'C1': [10, 20, 30],\n",
    "    'C2': [20, 30, 40],\n",
    "    'C3': [12, 34]\n",
    "}\n",
    "for key in given_dictionary:\n",
    "    given_dictionary[key].clear()\n",
    "\n",
    "print(given_dictionary)"
   ]
  },
  {
   "cell_type": "markdown",
   "id": "18d1c28f-ac54-4f35-9a1f-da2255821e45",
   "metadata": {},
   "source": [
    "### Question 7"
   ]
  },
  {
   "cell_type": "code",
   "execution_count": 41,
   "id": "336d8df5-6d59-4080-b53b-0b8ab6086d44",
   "metadata": {},
   "outputs": [
    {
     "name": "stdout",
     "output_type": "stream",
     "text": [
      "The Nile runs through Egypt\n",
      "The Amazon runs through Brazil\n",
      "The Mississippi runs through Usa\n",
      "\n",
      "Rivers included in the dictionary:\n",
      "Nile\n",
      "Amazon\n",
      "Mississippi\n",
      "\n",
      "Countries included in the dictionary:\n",
      "Egypt\n",
      "Brazil\n",
      "Usa\n"
     ]
    }
   ],
   "source": [
    "rivers = {\n",
    "    \"Nile\" : \"Egypt\",\n",
    "    \"Amazon\" : \"Brazil\",\n",
    "    \"Mississippi\" : \"USA\"\n",
    "}\n",
    "for river , country in rivers.items():\n",
    "    print(f\"The {river.title()} runs through {country.title()}\")\n",
    "print(\"\\nRivers included in the dictionary:\")\n",
    "for river in rivers.keys():\n",
    "    print(river.title())\n",
    "print(\"\\nCountries included in the dictionary:\")\n",
    "for country in rivers.values():\n",
    "    print(country.title())"
   ]
  },
  {
   "cell_type": "markdown",
   "id": "8c55ec2b-c6a3-4cfe-b20c-25a8142a1664",
   "metadata": {},
   "source": [
    "### Question 8"
   ]
  },
  {
   "cell_type": "code",
   "execution_count": 78,
   "id": "f2ba7f16-b352-4813-b6d5-300683588708",
   "metadata": {},
   "outputs": [
    {
     "name": "stdin",
     "output_type": "stream",
     "text": [
      "Enter your age or \"quit\" to exit 2\n"
     ]
    },
    {
     "name": "stdout",
     "output_type": "stream",
     "text": [
      "The ticket is free\n"
     ]
    },
    {
     "name": "stdin",
     "output_type": "stream",
     "text": [
      "Enter your age or \"quit\" to exit 3\n"
     ]
    },
    {
     "name": "stdout",
     "output_type": "stream",
     "text": [
      "The ticket is free\n"
     ]
    },
    {
     "name": "stdin",
     "output_type": "stream",
     "text": [
      "Enter your age or \"quit\" to exit 5\n"
     ]
    },
    {
     "name": "stdout",
     "output_type": "stream",
     "text": [
      "The ticket price is 10$\n"
     ]
    },
    {
     "name": "stdin",
     "output_type": "stream",
     "text": [
      "Enter your age or \"quit\" to exit 3\n"
     ]
    },
    {
     "name": "stdout",
     "output_type": "stream",
     "text": [
      "The ticket is free\n"
     ]
    },
    {
     "name": "stdin",
     "output_type": "stream",
     "text": [
      "Enter your age or \"quit\" to exit 8\n"
     ]
    },
    {
     "name": "stdout",
     "output_type": "stream",
     "text": [
      "The ticket price is 10$\n"
     ]
    },
    {
     "name": "stdin",
     "output_type": "stream",
     "text": [
      "Enter your age or \"quit\" to exit 13\n"
     ]
    },
    {
     "name": "stdout",
     "output_type": "stream",
     "text": [
      "The ticket price is 15$\n"
     ]
    },
    {
     "name": "stdin",
     "output_type": "stream",
     "text": [
      "Enter your age or \"quit\" to exit 16\n"
     ]
    },
    {
     "name": "stdout",
     "output_type": "stream",
     "text": [
      "The ticket price is 15$\n"
     ]
    },
    {
     "name": "stdin",
     "output_type": "stream",
     "text": [
      "Enter your age or \"quit\" to exit quit\n"
     ]
    },
    {
     "name": "stdout",
     "output_type": "stream",
     "text": [
      "Thank You for using Movie ticket system!\n"
     ]
    }
   ],
   "source": [
    "while True:\n",
    "    age = input(\"\"\"Enter your age or \"quit\" to exit\"\"\")\n",
    "    if age == \"quit\":\n",
    "        print(\"Thank You for using Movie ticket system!\")\n",
    "        break\n",
    "    age = int(age)\n",
    "    if age <= 3:\n",
    "        print(\"The ticket is free\")\n",
    "    elif age > 3 and age <=12:\n",
    "        print(\"The ticket price is 10$\")\n",
    "    else:\n",
    "        print(\"The ticket price is 15$\")\n"
   ]
  },
  {
   "cell_type": "code",
   "execution_count": null,
   "id": "11e89b42-80bb-4744-932b-5823abf88c08",
   "metadata": {},
   "outputs": [],
   "source": []
  }
 ],
 "metadata": {
  "kernelspec": {
   "display_name": "Python 3 (ipykernel)",
   "language": "python",
   "name": "python3"
  },
  "language_info": {
   "codemirror_mode": {
    "name": "ipython",
    "version": 3
   },
   "file_extension": ".py",
   "mimetype": "text/x-python",
   "name": "python",
   "nbconvert_exporter": "python",
   "pygments_lexer": "ipython3",
   "version": "3.12.4"
  }
 },
 "nbformat": 4,
 "nbformat_minor": 5
}
