{
 "cells": [
  {
   "cell_type": "markdown",
   "id": "fcadd486-9e0d-4782-85c0-43e800f62a82",
   "metadata": {},
   "source": [
    "__List in list__"
   ]
  },
  {
   "cell_type": "markdown",
   "id": "a22b3a2b-acbe-46f6-809a-38a5106c5732",
   "metadata": {},
   "source": [
    "nested_list = [80, 65, [2, 6, 7], 5, 9, [1, 4]]\n",
    "nested_list"
   ]
  },
  {
   "cell_type": "code",
   "execution_count": 5,
   "id": "e7c2c8dd-b026-4b50-a3f8-4d0ab9dea332",
   "metadata": {},
   "outputs": [
    {
     "data": {
      "text/plain": [
       "7"
      ]
     },
     "execution_count": 5,
     "metadata": {},
     "output_type": "execute_result"
    }
   ],
   "source": [
    "nested_list[2][2]"
   ]
  },
  {
   "cell_type": "code",
   "execution_count": 7,
   "id": "8aa6cc7d-904c-4df5-af3a-73b299f42a85",
   "metadata": {},
   "outputs": [
    {
     "data": {
      "text/plain": [
       "[80, 65, [2, 6, 10], 5, 9, [1, 4]]"
      ]
     },
     "execution_count": 7,
     "metadata": {},
     "output_type": "execute_result"
    }
   ],
   "source": [
    "nested_list[2][2] = 10\n",
    "nested_list"
   ]
  },
  {
   "cell_type": "code",
   "execution_count": 9,
   "id": "0ac89409-c7ac-46e1-b563-432a00790353",
   "metadata": {},
   "outputs": [
    {
     "data": {
      "text/plain": [
       "[80, 65, [2, 6, 10], 5, 9, [1, 4], [3, 6]]"
      ]
     },
     "execution_count": 9,
     "metadata": {},
     "output_type": "execute_result"
    }
   ],
   "source": [
    "nested_list.append([3,6])\n",
    "nested_list"
   ]
  },
  {
   "cell_type": "code",
   "execution_count": 11,
   "id": "b0f0ead0-050b-42eb-9df9-053f82025938",
   "metadata": {},
   "outputs": [
    {
     "data": {
      "text/plain": [
       "[80, 65, 5, 9, [1, 4], [3, 6]]"
      ]
     },
     "execution_count": 11,
     "metadata": {},
     "output_type": "execute_result"
    }
   ],
   "source": [
    "nested_list.pop(2)\n",
    "nested_list"
   ]
  },
  {
   "cell_type": "code",
   "execution_count": 13,
   "id": "8126739e-ddc7-4c1a-b2cb-c62d069332ac",
   "metadata": {},
   "outputs": [
    {
     "data": {
      "text/plain": [
       "[80, 65, 5, [4, 8], 9, [1, 4], [3, 6]]"
      ]
     },
     "execution_count": 13,
     "metadata": {},
     "output_type": "execute_result"
    }
   ],
   "source": [
    "nested_list.insert(3, [4, 8])\n",
    "nested_list"
   ]
  },
  {
   "cell_type": "code",
   "execution_count": 15,
   "id": "78ee93c7-4779-4241-b430-1da664ceae76",
   "metadata": {},
   "outputs": [
    {
     "ename": "TypeError",
     "evalue": "list.extend() takes exactly one argument (2 given)",
     "output_type": "error",
     "traceback": [
      "\u001b[1;31m---------------------------------------------------------------------------\u001b[0m",
      "\u001b[1;31mTypeError\u001b[0m                                 Traceback (most recent call last)",
      "Cell \u001b[1;32mIn[15], line 1\u001b[0m\n\u001b[1;32m----> 1\u001b[0m nested_list\u001b[38;5;241m.\u001b[39mextend([\u001b[38;5;241m55\u001b[39m, \u001b[38;5;241m6\u001b[39m], [\u001b[38;5;241m2\u001b[39m,\u001b[38;5;241m1\u001b[39m])\n\u001b[0;32m      2\u001b[0m nested_list\n",
      "\u001b[1;31mTypeError\u001b[0m: list.extend() takes exactly one argument (2 given)"
     ]
    }
   ],
   "source": [
    "nested_list.extend([55, 6], [2,1])\n",
    "nested_list"
   ]
  },
  {
   "cell_type": "code",
   "execution_count": 17,
   "id": "d82fce14-938a-49b0-8969-7a1371015644",
   "metadata": {},
   "outputs": [
    {
     "data": {
      "text/plain": [
       "[80, 65, 5, [4, 8], 9, [1, 4], [3, 6], [55, 6], [2, 1]]"
      ]
     },
     "execution_count": 17,
     "metadata": {},
     "output_type": "execute_result"
    }
   ],
   "source": [
    "nested_list.extend([[55, 6], [2,1]])\n",
    "nested_list"
   ]
  },
  {
   "cell_type": "code",
   "execution_count": 21,
   "id": "ca52ad33-5169-43e1-9dc2-92bc24e5db20",
   "metadata": {},
   "outputs": [
    {
     "data": {
      "text/plain": [
       "[]"
      ]
     },
     "execution_count": 21,
     "metadata": {},
     "output_type": "execute_result"
    }
   ],
   "source": [
    "nested_list.clear()\n",
    "nested_list"
   ]
  },
  {
   "cell_type": "code",
   "execution_count": 23,
   "id": "9bc19ffb-3798-438f-9135-07985ec7cd36",
   "metadata": {},
   "outputs": [
    {
     "data": {
      "text/plain": [
       "[80, 65, 5, [4, 8], 9, [1, 4], [3, 6], [55, 6], [2, 1]]"
      ]
     },
     "execution_count": 23,
     "metadata": {},
     "output_type": "execute_result"
    }
   ],
   "source": [
    "nested_list = [80, 65, 5, [4, 8], 9, [1, 4], [3, 6], [55, 6], [2, 1]]\n",
    "nested_list"
   ]
  },
  {
   "cell_type": "code",
   "execution_count": 31,
   "id": "2ebc4188-66ae-4db8-bf8c-3c66f8f5eabf",
   "metadata": {
    "scrolled": true
   },
   "outputs": [
    {
     "data": {
      "text/plain": [
       "[80, 65, 5, [4, 8], 9, [1, 4], [3, 6], [55, 6], [2, 1]]"
      ]
     },
     "execution_count": 31,
     "metadata": {},
     "output_type": "execute_result"
    }
   ],
   "source": [
    "nested_list"
   ]
  },
  {
   "cell_type": "code",
   "execution_count": 35,
   "id": "04f9c473-f638-464a-832b-0383745ffa20",
   "metadata": {},
   "outputs": [
    {
     "data": {
      "text/plain": [
       "[[1, 2, 3], [4, 5, 6], [1, 2, 3]]"
      ]
     },
     "execution_count": 35,
     "metadata": {},
     "output_type": "execute_result"
    }
   ],
   "source": [
    "list = [[1, 2, 3], [4, 5, 6], [1, 2, 3]]\n",
    "list"
   ]
  },
  {
   "cell_type": "code",
   "execution_count": 41,
   "id": "355dd388-780e-4cac-8320-d69c59591329",
   "metadata": {},
   "outputs": [
    {
     "data": {
      "text/plain": [
       "2"
      ]
     },
     "execution_count": 41,
     "metadata": {},
     "output_type": "execute_result"
    }
   ],
   "source": [
    "count_of_element = list.count([1, 2, 3])\n",
    "count_of_element"
   ]
  },
  {
   "cell_type": "code",
   "execution_count": 43,
   "id": "f4fdef7f-5cb7-47f2-9f91-f1e9dd072d2c",
   "metadata": {},
   "outputs": [],
   "source": [
    "list.sort()"
   ]
  },
  {
   "cell_type": "code",
   "execution_count": 45,
   "id": "558dfbc5-74c9-443d-9455-a77df37c36fb",
   "metadata": {},
   "outputs": [
    {
     "data": {
      "text/plain": [
       "[[1, 2, 3], [1, 2, 3], [4, 5, 6]]"
      ]
     },
     "execution_count": 45,
     "metadata": {},
     "output_type": "execute_result"
    }
   ],
   "source": [
    "list"
   ]
  },
  {
   "cell_type": "code",
   "execution_count": 47,
   "id": "12c5f5ff-e1b3-4dae-b92f-7001db5423f6",
   "metadata": {},
   "outputs": [
    {
     "data": {
      "text/plain": [
       "[[4, 5, 6], [1, 2, 3], [1, 2, 3]]"
      ]
     },
     "execution_count": 47,
     "metadata": {},
     "output_type": "execute_result"
    }
   ],
   "source": [
    "list.reverse()\n",
    "list"
   ]
  },
  {
   "cell_type": "code",
   "execution_count": 49,
   "id": "53ec63ad-2df7-4e06-8a97-5d7d8bbff383",
   "metadata": {},
   "outputs": [
    {
     "data": {
      "text/plain": [
       "[[4, 5, 6], [1, 2, 3], [1, 2, 3]]"
      ]
     },
     "execution_count": 49,
     "metadata": {},
     "output_type": "execute_result"
    }
   ],
   "source": [
    "copied_list = list.copy()\n",
    "copied_list"
   ]
  },
  {
   "cell_type": "markdown",
   "id": "84be5122-44c3-4518-8403-6ca17ff0a1ed",
   "metadata": {},
   "source": [
    "__Assignment__"
   ]
  },
  {
   "cell_type": "code",
   "execution_count": 82,
   "id": "6cc3735a-8253-4695-9aa4-603843415d5e",
   "metadata": {},
   "outputs": [
    {
     "name": "stdout",
     "output_type": "stream",
     "text": [
      "Dear Bia, you are cordially invited to dinner!\n",
      "Dear Sara, you are cordially invited to dinner!\n",
      "Dear Hoor, you are cordially invited to dinner!\n",
      "\n",
      "Unfortunately, Sara can't make it to dinner.\n",
      "\n",
      "Dear Bia, you are still cordially invited to dinner!\n",
      "Dear M.Ahmed, you are still cordially invited to dinner!\n",
      "Dear Hoor, you are still cordially invited to dinner!\n",
      "\n",
      "Great news! We found a bigger dinner table, so we can invite more guests.\n",
      "\n",
      "Dear M.Hadi, you are now invited to dinner!\n",
      "Dear Bia, you are now invited to dinner!\n",
      "Dear M.Ali, you are now invited to dinner!\n",
      "Dear M.Ahmed, you are now invited to dinner!\n",
      "Dear Hoor, you are now invited to dinner!\n",
      "Dear Wajeeh, you are now invited to dinner!\n",
      "\n",
      "Unfortunately, the new dinner table won't arrive in time, and we can invite only two people.\n",
      "\n",
      "Sorry Wajeeh, we can't invite you to dinner this time.\n",
      "Sorry Hoor, we can't invite you to dinner this time.\n",
      "Sorry M.Ahmed, we can't invite you to dinner this time.\n",
      "Sorry M.Ali, we can't invite you to dinner this time.\n",
      "Dear M.Hadi, you are still invited to dinner!\n",
      "Dear Bia, you are still invited to dinner!\n",
      "\n",
      "Final guest list: []\n"
     ]
    }
   ],
   "source": [
    "guests = [\"Bia\", \"Sara\", \"Hoor\"]\n",
    "for guest in guests:\n",
    "    print(f\"Dear {guest}, you are cordially invited to dinner!\")\n",
    "print(f\"\\nUnfortunately, {guests[1]} can't make it to dinner.\\n\")\n",
    "guests[1]= \"M.Ahmed\"\n",
    "for guest in guests:\n",
    "    print(f\"Dear {guest}, you are still cordially invited to dinner!\")\n",
    "print(\"\\nGreat news! We found a bigger dinner table, so we can invite more guests.\\n\")\n",
    "guests.insert(0, \"M.Hadi\")\n",
    "guests.insert(2, \"M.Ali\")\n",
    "guests.append(\"Wajeeh\")\n",
    "for guest in guests:\n",
    "    print(f\"Dear {guest}, you are now invited to dinner!\")\n",
    "print(\"\\nUnfortunately, the new dinner table won't arrive in time, and we can invite only two people.\\n\")\n",
    "while len(guests) > 2:\n",
    "    removed_guest = guests.pop()\n",
    "    print(f\"Sorry {removed_guest}, we can't invite you to dinner this time.\")\n",
    "for guest in guests:\n",
    "    print(f\"Dear {guest}, you are still invited to dinner!\")\n",
    "del guests[0]\n",
    "del guests[0]\n",
    "print(\"\\nFinal guest list:\", guests)"
   ]
  },
  {
   "cell_type": "code",
   "execution_count": null,
   "id": "8824f4dd-2268-471d-8bb6-ad18b7138f56",
   "metadata": {},
   "outputs": [],
   "source": []
  }
 ],
 "metadata": {
  "kernelspec": {
   "display_name": "Python 3 (ipykernel)",
   "language": "python",
   "name": "python3"
  },
  "language_info": {
   "codemirror_mode": {
    "name": "ipython",
    "version": 3
   },
   "file_extension": ".py",
   "mimetype": "text/x-python",
   "name": "python",
   "nbconvert_exporter": "python",
   "pygments_lexer": "ipython3",
   "version": "3.12.4"
  }
 },
 "nbformat": 4,
 "nbformat_minor": 5
}
